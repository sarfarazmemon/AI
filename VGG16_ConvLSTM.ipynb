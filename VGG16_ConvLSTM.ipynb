{
  "metadata": {
    "kernelspec": {
      "language": "python",
      "display_name": "Python 3",
      "name": "python3"
    },
    "language_info": {
      "name": "python",
      "version": "3.10.13",
      "mimetype": "text/x-python",
      "codemirror_mode": {
        "name": "ipython",
        "version": 3
      },
      "pygments_lexer": "ipython3",
      "nbconvert_exporter": "python",
      "file_extension": ".py"
    },
    "kaggle": {
      "accelerator": "nvidiaTeslaT4",
      "dataSources": [
        {
          "sourceId": 170620,
          "sourceType": "datasetVersion",
          "datasetId": 75548
        },
        {
          "sourceId": 7408193,
          "sourceType": "datasetVersion",
          "datasetId": 2491957
        }
      ],
      "dockerImageVersionId": 30699,
      "isInternetEnabled": true,
      "language": "python",
      "sourceType": "notebook",
      "isGpuEnabled": true
    },
    "colab": {
      "name": "VGG16 - IIIT-A (ConvLSTM)",
      "provenance": [],
      "include_colab_link": true
    }
  },
  "nbformat_minor": 0,
  "nbformat": 4,
  "cells": [
    {
      "cell_type": "markdown",
      "metadata": {
        "id": "view-in-github",
        "colab_type": "text"
      },
      "source": [
        "<a href=\"https://colab.research.google.com/github/sarfarazmemon/AI/blob/main/VGG16_ConvLSTM.ipynb\" target=\"_parent\"><img src=\"https://colab.research.google.com/assets/colab-badge.svg\" alt=\"Open In Colab\"/></a>"
      ]
    },
    {
      "source": [
        "\n",
        "# IMPORTANT: RUN THIS CELL IN ORDER TO IMPORT YOUR KAGGLE DATA SOURCES\n",
        "# TO THE CORRECT LOCATION (/kaggle/input) IN YOUR NOTEBOOK,\n",
        "# THEN FEEL FREE TO DELETE THIS CELL.\n",
        "# NOTE: THIS NOTEBOOK ENVIRONMENT DIFFERS FROM KAGGLE'S PYTHON\n",
        "# ENVIRONMENT SO THERE MAY BE MISSING LIBRARIES USED BY YOUR\n",
        "# NOTEBOOK.\n",
        "\n",
        "import os\n",
        "import sys\n",
        "from tempfile import NamedTemporaryFile\n",
        "from urllib.request import urlopen\n",
        "from urllib.parse import unquote, urlparse\n",
        "from urllib.error import HTTPError\n",
        "from zipfile import ZipFile\n",
        "import tarfile\n",
        "import shutil\n",
        "\n",
        "CHUNK_SIZE = 40960\n",
        "DATA_SOURCE_MAPPING = 'crimeucfdataset:https%3A%2F%2Fstorage.googleapis.com%2Fkaggle-data-sets%2F75548%2F170620%2Fbundle%2Farchive.zip%3FX-Goog-Algorithm%3DGOOG4-RSA-SHA256%26X-Goog-Credential%3Dgcp-kaggle-com%2540kaggle-161607.iam.gserviceaccount.com%252F20240825%252Fauto%252Fstorage%252Fgoog4_request%26X-Goog-Date%3D20240825T133704Z%26X-Goog-Expires%3D259200%26X-Goog-SignedHeaders%3Dhost%26X-Goog-Signature%3D0c219be959e776672fa94b01d60b5f3998640c28a785d4ff300b8b9969404ba3183b1e2f7d424911612b72757300839cd5816b80b9be4a05f47b7726dbc9be129fa0d6a4f7e9dbebe2683bb30f617da0029549bf1d8dcb8a48a4806cb249e61bc0bd7307fd9e5599cd6ccef4da7d93e3b8d40bd67e7d4611192b2a5ad12d59d68d8f225aeb2296c951a4cec386488353dbf90ad764df356f700736d3541967202a03c786803b03bfaef1f6c403fb167d714d84945e6dff8a0c0fcb440fb9568b442b7f2392171f050f0007ffac59e848b5e11ef93598616a4a3c77a5610ea9026732476b1fabd5ef2e1fed653429edba2971607ccc2b2aae16ef120297d0cea2,trim-data:https%3A%2F%2Fstorage.googleapis.com%2Fkaggle-data-sets%2F2491957%2F7408193%2Fbundle%2Farchive.zip%3FX-Goog-Algorithm%3DGOOG4-RSA-SHA256%26X-Goog-Credential%3Dgcp-kaggle-com%2540kaggle-161607.iam.gserviceaccount.com%252F20240825%252Fauto%252Fstorage%252Fgoog4_request%26X-Goog-Date%3D20240825T133704Z%26X-Goog-Expires%3D259200%26X-Goog-SignedHeaders%3Dhost%26X-Goog-Signature%3D7761067263a76056323c9a9a0205f1f5bbad2239cc38c82b8c815fdb320290b0de3da8efcbf61664fb5c1e72ec63a7add64341032c15501c3808ad3b4e706362c369732d047ddec87095de214125c559db61cc467b287103046d4eb25f42de0b549cd7d05d280f51ff38902b4d5186d0e47620ad7ecfa830df177631bef3cb9a52f1c987b9772f31ac73a608594eb5f52a223badf62b3a756eb73f889dc408aa79d94a46db5cbee3bf9f84ad28068f8c43bb4809d18f3413f90e85322c6cc7e064265e1745572e75b14583c69beec4769835ab36c036df189d5ffa20baa9c01fa972869c70506bb907415a32d9d0526a6b3867ddf80d9e112a48560625f4bfbb'\n",
        "\n",
        "KAGGLE_INPUT_PATH='/kaggle/input'\n",
        "KAGGLE_WORKING_PATH='/kaggle/working'\n",
        "KAGGLE_SYMLINK='kaggle'\n",
        "\n",
        "!umount /kaggle/input/ 2> /dev/null\n",
        "shutil.rmtree('/kaggle/input', ignore_errors=True)\n",
        "os.makedirs(KAGGLE_INPUT_PATH, 0o777, exist_ok=True)\n",
        "os.makedirs(KAGGLE_WORKING_PATH, 0o777, exist_ok=True)\n",
        "\n",
        "try:\n",
        "  os.symlink(KAGGLE_INPUT_PATH, os.path.join(\"..\", 'input'), target_is_directory=True)\n",
        "except FileExistsError:\n",
        "  pass\n",
        "try:\n",
        "  os.symlink(KAGGLE_WORKING_PATH, os.path.join(\"..\", 'working'), target_is_directory=True)\n",
        "except FileExistsError:\n",
        "  pass\n",
        "\n",
        "for data_source_mapping in DATA_SOURCE_MAPPING.split(','):\n",
        "    directory, download_url_encoded = data_source_mapping.split(':')\n",
        "    download_url = unquote(download_url_encoded)\n",
        "    filename = urlparse(download_url).path\n",
        "    destination_path = os.path.join(KAGGLE_INPUT_PATH, directory)\n",
        "    try:\n",
        "        with urlopen(download_url) as fileres, NamedTemporaryFile() as tfile:\n",
        "            total_length = fileres.headers['content-length']\n",
        "            print(f'Downloading {directory}, {total_length} bytes compressed')\n",
        "            dl = 0\n",
        "            data = fileres.read(CHUNK_SIZE)\n",
        "            while len(data) > 0:\n",
        "                dl += len(data)\n",
        "                tfile.write(data)\n",
        "                done = int(50 * dl / int(total_length))\n",
        "                sys.stdout.write(f\"\\r[{'=' * done}{' ' * (50-done)}] {dl} bytes downloaded\")\n",
        "                sys.stdout.flush()\n",
        "                data = fileres.read(CHUNK_SIZE)\n",
        "            if filename.endswith('.zip'):\n",
        "              with ZipFile(tfile) as zfile:\n",
        "                zfile.extractall(destination_path)\n",
        "            else:\n",
        "              with tarfile.open(tfile.name) as tarfile:\n",
        "                tarfile.extractall(destination_path)\n",
        "            print(f'\\nDownloaded and uncompressed: {directory}')\n",
        "    except HTTPError as e:\n",
        "        print(f'Failed to load (likely expired) {download_url} to path {destination_path}')\n",
        "        continue\n",
        "    except OSError as e:\n",
        "        print(f'Failed to load {download_url} to path {destination_path}')\n",
        "        continue\n",
        "\n",
        "print('Data source import complete.')\n"
      ],
      "metadata": {
        "id": "xdpabd43wTtW",
        "outputId": "a76688a9-3ef8-49b7-9451-f3b07a438454",
        "colab": {
          "base_uri": "https://localhost:8080/",
          "height": 407
        }
      },
      "cell_type": "code",
      "outputs": [
        {
          "output_type": "stream",
          "name": "stdout",
          "text": [
            "Downloading crimeucfdataset, 35292068924 bytes compressed\n",
            "[======                                            ] 4470210560 bytes downloaded"
          ]
        },
        {
          "output_type": "error",
          "ename": "KeyboardInterrupt",
          "evalue": "",
          "traceback": [
            "\u001b[0;31m---------------------------------------------------------------------------\u001b[0m",
            "\u001b[0;31mKeyboardInterrupt\u001b[0m                         Traceback (most recent call last)",
            "\u001b[0;32m<ipython-input-2-ba35cefc04aa>\u001b[0m in \u001b[0;36m<cell line: 39>\u001b[0;34m()\u001b[0m\n\u001b[1;32m     54\u001b[0m                 \u001b[0msys\u001b[0m\u001b[0;34m.\u001b[0m\u001b[0mstdout\u001b[0m\u001b[0;34m.\u001b[0m\u001b[0mwrite\u001b[0m\u001b[0;34m(\u001b[0m\u001b[0;34mf\"\\r[{'=' * done}{' ' * (50-done)}] {dl} bytes downloaded\"\u001b[0m\u001b[0;34m)\u001b[0m\u001b[0;34m\u001b[0m\u001b[0;34m\u001b[0m\u001b[0m\n\u001b[1;32m     55\u001b[0m                 \u001b[0msys\u001b[0m\u001b[0;34m.\u001b[0m\u001b[0mstdout\u001b[0m\u001b[0;34m.\u001b[0m\u001b[0mflush\u001b[0m\u001b[0;34m(\u001b[0m\u001b[0;34m)\u001b[0m\u001b[0;34m\u001b[0m\u001b[0;34m\u001b[0m\u001b[0m\n\u001b[0;32m---> 56\u001b[0;31m                 \u001b[0mdata\u001b[0m \u001b[0;34m=\u001b[0m \u001b[0mfileres\u001b[0m\u001b[0;34m.\u001b[0m\u001b[0mread\u001b[0m\u001b[0;34m(\u001b[0m\u001b[0mCHUNK_SIZE\u001b[0m\u001b[0;34m)\u001b[0m\u001b[0;34m\u001b[0m\u001b[0;34m\u001b[0m\u001b[0m\n\u001b[0m\u001b[1;32m     57\u001b[0m             \u001b[0;32mif\u001b[0m \u001b[0mfilename\u001b[0m\u001b[0;34m.\u001b[0m\u001b[0mendswith\u001b[0m\u001b[0;34m(\u001b[0m\u001b[0;34m'.zip'\u001b[0m\u001b[0;34m)\u001b[0m\u001b[0;34m:\u001b[0m\u001b[0;34m\u001b[0m\u001b[0;34m\u001b[0m\u001b[0m\n\u001b[1;32m     58\u001b[0m               \u001b[0;32mwith\u001b[0m \u001b[0mZipFile\u001b[0m\u001b[0;34m(\u001b[0m\u001b[0mtfile\u001b[0m\u001b[0;34m)\u001b[0m \u001b[0;32mas\u001b[0m \u001b[0mzfile\u001b[0m\u001b[0;34m:\u001b[0m\u001b[0;34m\u001b[0m\u001b[0;34m\u001b[0m\u001b[0m\n",
            "\u001b[0;32m/usr/lib/python3.10/http/client.py\u001b[0m in \u001b[0;36mread\u001b[0;34m(self, amt)\u001b[0m\n\u001b[1;32m    464\u001b[0m                 \u001b[0;31m# clip the read to the \"end of response\"\u001b[0m\u001b[0;34m\u001b[0m\u001b[0;34m\u001b[0m\u001b[0m\n\u001b[1;32m    465\u001b[0m                 \u001b[0mamt\u001b[0m \u001b[0;34m=\u001b[0m \u001b[0mself\u001b[0m\u001b[0;34m.\u001b[0m\u001b[0mlength\u001b[0m\u001b[0;34m\u001b[0m\u001b[0;34m\u001b[0m\u001b[0m\n\u001b[0;32m--> 466\u001b[0;31m             \u001b[0ms\u001b[0m \u001b[0;34m=\u001b[0m \u001b[0mself\u001b[0m\u001b[0;34m.\u001b[0m\u001b[0mfp\u001b[0m\u001b[0;34m.\u001b[0m\u001b[0mread\u001b[0m\u001b[0;34m(\u001b[0m\u001b[0mamt\u001b[0m\u001b[0;34m)\u001b[0m\u001b[0;34m\u001b[0m\u001b[0;34m\u001b[0m\u001b[0m\n\u001b[0m\u001b[1;32m    467\u001b[0m             \u001b[0;32mif\u001b[0m \u001b[0;32mnot\u001b[0m \u001b[0ms\u001b[0m \u001b[0;32mand\u001b[0m \u001b[0mamt\u001b[0m\u001b[0;34m:\u001b[0m\u001b[0;34m\u001b[0m\u001b[0;34m\u001b[0m\u001b[0m\n\u001b[1;32m    468\u001b[0m                 \u001b[0;31m# Ideally, we would raise IncompleteRead if the content-length\u001b[0m\u001b[0;34m\u001b[0m\u001b[0;34m\u001b[0m\u001b[0m\n",
            "\u001b[0;32m/usr/lib/python3.10/socket.py\u001b[0m in \u001b[0;36mreadinto\u001b[0;34m(self, b)\u001b[0m\n\u001b[1;32m    703\u001b[0m         \u001b[0;32mwhile\u001b[0m \u001b[0;32mTrue\u001b[0m\u001b[0;34m:\u001b[0m\u001b[0;34m\u001b[0m\u001b[0;34m\u001b[0m\u001b[0m\n\u001b[1;32m    704\u001b[0m             \u001b[0;32mtry\u001b[0m\u001b[0;34m:\u001b[0m\u001b[0;34m\u001b[0m\u001b[0;34m\u001b[0m\u001b[0m\n\u001b[0;32m--> 705\u001b[0;31m                 \u001b[0;32mreturn\u001b[0m \u001b[0mself\u001b[0m\u001b[0;34m.\u001b[0m\u001b[0m_sock\u001b[0m\u001b[0;34m.\u001b[0m\u001b[0mrecv_into\u001b[0m\u001b[0;34m(\u001b[0m\u001b[0mb\u001b[0m\u001b[0;34m)\u001b[0m\u001b[0;34m\u001b[0m\u001b[0;34m\u001b[0m\u001b[0m\n\u001b[0m\u001b[1;32m    706\u001b[0m             \u001b[0;32mexcept\u001b[0m \u001b[0mtimeout\u001b[0m\u001b[0;34m:\u001b[0m\u001b[0;34m\u001b[0m\u001b[0;34m\u001b[0m\u001b[0m\n\u001b[1;32m    707\u001b[0m                 \u001b[0mself\u001b[0m\u001b[0;34m.\u001b[0m\u001b[0m_timeout_occurred\u001b[0m \u001b[0;34m=\u001b[0m \u001b[0;32mTrue\u001b[0m\u001b[0;34m\u001b[0m\u001b[0;34m\u001b[0m\u001b[0m\n",
            "\u001b[0;32m/usr/lib/python3.10/ssl.py\u001b[0m in \u001b[0;36mrecv_into\u001b[0;34m(self, buffer, nbytes, flags)\u001b[0m\n\u001b[1;32m   1301\u001b[0m                   \u001b[0;34m\"non-zero flags not allowed in calls to recv_into() on %s\"\u001b[0m \u001b[0;34m%\u001b[0m\u001b[0;34m\u001b[0m\u001b[0;34m\u001b[0m\u001b[0m\n\u001b[1;32m   1302\u001b[0m                   self.__class__)\n\u001b[0;32m-> 1303\u001b[0;31m             \u001b[0;32mreturn\u001b[0m \u001b[0mself\u001b[0m\u001b[0;34m.\u001b[0m\u001b[0mread\u001b[0m\u001b[0;34m(\u001b[0m\u001b[0mnbytes\u001b[0m\u001b[0;34m,\u001b[0m \u001b[0mbuffer\u001b[0m\u001b[0;34m)\u001b[0m\u001b[0;34m\u001b[0m\u001b[0;34m\u001b[0m\u001b[0m\n\u001b[0m\u001b[1;32m   1304\u001b[0m         \u001b[0;32melse\u001b[0m\u001b[0;34m:\u001b[0m\u001b[0;34m\u001b[0m\u001b[0;34m\u001b[0m\u001b[0m\n\u001b[1;32m   1305\u001b[0m             \u001b[0;32mreturn\u001b[0m \u001b[0msuper\u001b[0m\u001b[0;34m(\u001b[0m\u001b[0;34m)\u001b[0m\u001b[0;34m.\u001b[0m\u001b[0mrecv_into\u001b[0m\u001b[0;34m(\u001b[0m\u001b[0mbuffer\u001b[0m\u001b[0;34m,\u001b[0m \u001b[0mnbytes\u001b[0m\u001b[0;34m,\u001b[0m \u001b[0mflags\u001b[0m\u001b[0;34m)\u001b[0m\u001b[0;34m\u001b[0m\u001b[0;34m\u001b[0m\u001b[0m\n",
            "\u001b[0;32m/usr/lib/python3.10/ssl.py\u001b[0m in \u001b[0;36mread\u001b[0;34m(self, len, buffer)\u001b[0m\n\u001b[1;32m   1157\u001b[0m         \u001b[0;32mtry\u001b[0m\u001b[0;34m:\u001b[0m\u001b[0;34m\u001b[0m\u001b[0;34m\u001b[0m\u001b[0m\n\u001b[1;32m   1158\u001b[0m             \u001b[0;32mif\u001b[0m \u001b[0mbuffer\u001b[0m \u001b[0;32mis\u001b[0m \u001b[0;32mnot\u001b[0m \u001b[0;32mNone\u001b[0m\u001b[0;34m:\u001b[0m\u001b[0;34m\u001b[0m\u001b[0;34m\u001b[0m\u001b[0m\n\u001b[0;32m-> 1159\u001b[0;31m                 \u001b[0;32mreturn\u001b[0m \u001b[0mself\u001b[0m\u001b[0;34m.\u001b[0m\u001b[0m_sslobj\u001b[0m\u001b[0;34m.\u001b[0m\u001b[0mread\u001b[0m\u001b[0;34m(\u001b[0m\u001b[0mlen\u001b[0m\u001b[0;34m,\u001b[0m \u001b[0mbuffer\u001b[0m\u001b[0;34m)\u001b[0m\u001b[0;34m\u001b[0m\u001b[0;34m\u001b[0m\u001b[0m\n\u001b[0m\u001b[1;32m   1160\u001b[0m             \u001b[0;32melse\u001b[0m\u001b[0;34m:\u001b[0m\u001b[0;34m\u001b[0m\u001b[0;34m\u001b[0m\u001b[0m\n\u001b[1;32m   1161\u001b[0m                 \u001b[0;32mreturn\u001b[0m \u001b[0mself\u001b[0m\u001b[0;34m.\u001b[0m\u001b[0m_sslobj\u001b[0m\u001b[0;34m.\u001b[0m\u001b[0mread\u001b[0m\u001b[0;34m(\u001b[0m\u001b[0mlen\u001b[0m\u001b[0;34m)\u001b[0m\u001b[0;34m\u001b[0m\u001b[0;34m\u001b[0m\u001b[0m\n",
            "\u001b[0;31mKeyboardInterrupt\u001b[0m: "
          ]
        }
      ],
      "execution_count": 2
    },
    {
      "cell_type": "code",
      "source": [
        "!pip install torchsummary"
      ],
      "metadata": {
        "execution": {
          "iopub.status.busy": "2024-05-24T18:54:22.874571Z",
          "iopub.execute_input": "2024-05-24T18:54:22.874817Z",
          "iopub.status.idle": "2024-05-24T18:54:36.216386Z",
          "shell.execute_reply.started": "2024-05-24T18:54:22.874794Z",
          "shell.execute_reply": "2024-05-24T18:54:36.215255Z"
        },
        "trusted": true,
        "id": "DjuNlZ9OwTtX"
      },
      "execution_count": null,
      "outputs": []
    },
    {
      "cell_type": "code",
      "source": [
        "import numpy as np\n",
        "import pandas as pd\n",
        "import matplotlib.pyplot as plt\n",
        "import torch\n",
        "import torch.nn as nn\n",
        "import torch.optim as optim\n",
        "import torch.nn.functional as F\n",
        "from torch.utils.data import DataLoader\n",
        "from torch.utils.data import Dataset\n",
        "import torchvision.datasets as datasets\n",
        "import torchvision.transforms as transforms\n",
        "from torchsummary import summary\n",
        "import warnings\n",
        "import os\n",
        "import sys\n",
        "from tqdm import tqdm\n",
        "import cv2"
      ],
      "metadata": {
        "_uuid": "8f2839f25d086af736a60e9eeb907d3b93b6e0e5",
        "_cell_guid": "b1076dfc-b9ad-4769-8c92-a6c4dae69d19",
        "execution": {
          "iopub.status.busy": "2024-05-24T18:55:01.951782Z",
          "iopub.execute_input": "2024-05-24T18:55:01.952119Z",
          "iopub.status.idle": "2024-05-24T18:55:08.82821Z",
          "shell.execute_reply.started": "2024-05-24T18:55:01.952091Z",
          "shell.execute_reply": "2024-05-24T18:55:08.82744Z"
        },
        "trusted": true,
        "id": "jzp3MX5DwTtX"
      },
      "execution_count": null,
      "outputs": []
    },
    {
      "cell_type": "code",
      "source": [
        "device = torch.device('cuda' if torch.cuda.is_available() else 'cpu')\n",
        "device"
      ],
      "metadata": {
        "execution": {
          "iopub.status.busy": "2024-05-24T18:55:08.830004Z",
          "iopub.execute_input": "2024-05-24T18:55:08.83074Z",
          "iopub.status.idle": "2024-05-24T18:55:08.887022Z",
          "shell.execute_reply.started": "2024-05-24T18:55:08.830706Z",
          "shell.execute_reply": "2024-05-24T18:55:08.885934Z"
        },
        "trusted": true,
        "id": "O_Vjzo1kwTtX"
      },
      "execution_count": null,
      "outputs": []
    },
    {
      "cell_type": "code",
      "source": [
        "RESOLUTION = 224"
      ],
      "metadata": {
        "execution": {
          "iopub.status.busy": "2024-05-24T18:55:08.888241Z",
          "iopub.execute_input": "2024-05-24T18:55:08.888564Z",
          "iopub.status.idle": "2024-05-24T18:55:08.895611Z",
          "shell.execute_reply.started": "2024-05-24T18:55:08.888532Z",
          "shell.execute_reply": "2024-05-24T18:55:08.894774Z"
        },
        "trusted": true,
        "id": "agTLWJuRwTtY"
      },
      "execution_count": null,
      "outputs": []
    },
    {
      "cell_type": "code",
      "source": [
        "warnings.filterwarnings( \"ignore\", module = \"matplotlib\\..*\" )"
      ],
      "metadata": {
        "execution": {
          "iopub.status.busy": "2024-05-24T18:55:08.897516Z",
          "iopub.execute_input": "2024-05-24T18:55:08.898129Z",
          "iopub.status.idle": "2024-05-24T18:55:08.902876Z",
          "shell.execute_reply.started": "2024-05-24T18:55:08.898095Z",
          "shell.execute_reply": "2024-05-24T18:55:08.901982Z"
        },
        "trusted": true,
        "id": "dsgSz9ePwTtY"
      },
      "execution_count": null,
      "outputs": []
    },
    {
      "cell_type": "code",
      "source": [
        "transformer = transforms.Compose([\n",
        "    transforms.ToTensor(),\n",
        "    transforms.Normalize(mean=[0.5], std=[0.5]),\n",
        "    # transforms.Lambda(lambda x: x / 255.),\n",
        "    transforms.Resize((RESOLUTION, RESOLUTION))\n",
        "])"
      ],
      "metadata": {
        "execution": {
          "iopub.status.busy": "2024-05-24T18:55:11.042815Z",
          "iopub.execute_input": "2024-05-24T18:55:11.043196Z",
          "iopub.status.idle": "2024-05-24T18:55:11.048829Z",
          "shell.execute_reply.started": "2024-05-24T18:55:11.043165Z",
          "shell.execute_reply": "2024-05-24T18:55:11.047679Z"
        },
        "trusted": true,
        "id": "divwmbcpwTtY"
      },
      "execution_count": null,
      "outputs": []
    },
    {
      "cell_type": "code",
      "source": [
        "def plot_image_from_list(__images, __labels, __count):\n",
        "    plt.figure(figsize=(10, 10))\n",
        "    for _i in range(__count[0] * __count[1]):\n",
        "        plt.subplot(__count[0], __count[1], _i + 1)\n",
        "        plt.xticks([])\n",
        "        plt.yticks([])\n",
        "        plt.grid(False)\n",
        "        _img = __images[_i].to(\"cpu\").numpy()\n",
        "        plt.imshow(_img, cmap= \"gray\")\n",
        "        plt.xlabel(__labels[_i])\n",
        "    plt.show()"
      ],
      "metadata": {
        "execution": {
          "iopub.status.busy": "2024-05-24T18:55:12.401956Z",
          "iopub.execute_input": "2024-05-24T18:55:12.40278Z",
          "iopub.status.idle": "2024-05-24T18:55:12.409Z",
          "shell.execute_reply.started": "2024-05-24T18:55:12.402746Z",
          "shell.execute_reply": "2024-05-24T18:55:12.407856Z"
        },
        "trusted": true,
        "id": "rQZYTmjUwTtY"
      },
      "execution_count": null,
      "outputs": []
    },
    {
      "cell_type": "code",
      "source": [
        "def plot_randomly_form_dataset(__dataset):\n",
        "    images = []\n",
        "    labels = []\n",
        "    for _ in range(0, 25):\n",
        "        index = torch.randint(0, len(__dataset), (1,)).item()\n",
        "        image, label = __dataset[index]\n",
        "        images.append(image.squeeze())\n",
        "        labels.append(__dataset.label_id2str(label.item()))\n",
        "\n",
        "    plot_image_from_list(images, labels, (5, 5))\n",
        ""
      ],
      "metadata": {
        "execution": {
          "iopub.status.busy": "2024-05-24T18:55:12.762558Z",
          "iopub.execute_input": "2024-05-24T18:55:12.763229Z",
          "iopub.status.idle": "2024-05-24T18:55:12.768916Z",
          "shell.execute_reply.started": "2024-05-24T18:55:12.763201Z",
          "shell.execute_reply": "2024-05-24T18:55:12.767896Z"
        },
        "trusted": true,
        "id": "9eBLezVnwTtZ"
      },
      "execution_count": null,
      "outputs": []
    },
    {
      "cell_type": "code",
      "source": [
        "def plot_randomly_form_dataset_model(__dataset, __model):\n",
        "    images = []\n",
        "    labels = []\n",
        "    for _ in range(0, 25):\n",
        "        index = torch.randint(0, len(__dataset), (1,)).item()\n",
        "        image, label = __dataset[index]\n",
        "        images.append(image.squeeze())\n",
        "        result = model(image.unsqueeze(dim=0).to(device)).squeeze().cpu().argmax()\n",
        "\n",
        "        labels.append(__dataset.label_id2str(label.item()) + \" -> \" + __dataset.label_id2str(result.item()))\n",
        "\n",
        "    plot_image_from_list(images, labels, (5, 5))\n",
        ""
      ],
      "metadata": {
        "execution": {
          "iopub.status.busy": "2024-05-24T18:55:14.122757Z",
          "iopub.execute_input": "2024-05-24T18:55:14.123383Z",
          "iopub.status.idle": "2024-05-24T18:55:14.129998Z",
          "shell.execute_reply.started": "2024-05-24T18:55:14.123349Z",
          "shell.execute_reply": "2024-05-24T18:55:14.12888Z"
        },
        "trusted": true,
        "id": "ZhHq-a2BwTtZ"
      },
      "execution_count": null,
      "outputs": []
    },
    {
      "cell_type": "code",
      "source": [
        "DATA_SOURCE = {\n",
        "    \"Abuse\": \"/kaggle/input/crimeucfdataset/Anomaly_Dataset/Anomaly_Videos/Anomaly-Videos-Part-1/Abuse\",\n",
        "    \"Arrest\": \"/kaggle/input/crimeucfdataset/Anomaly_Dataset/Anomaly_Videos/Anomaly-Videos-Part-1/Arrest\",\n",
        "    \"Arson\": \"/kaggle/input/crimeucfdataset/Anomaly_Dataset/Anomaly_Videos/Anomaly-Videos-Part-1/Arson\",\n",
        "    \"Assault\": \"/kaggle/input/crimeucfdataset/Anomaly_Dataset/Anomaly_Videos/Anomaly-Videos-Part-1/Assault\",\n",
        "    \"Burglary\": \"/kaggle/input/crimeucfdataset/Anomaly_Dataset/Anomaly_Videos/Anomaly-Videos-Part-2/Burglary\",\n",
        "    \"Explosion\": \"/kaggle/input/crimeucfdataset/Anomaly_Dataset/Anomaly_Videos/Anomaly-Videos-Part-2/Explosion\",\n",
        "    \"Fighting\": \"/kaggle/input/crimeucfdataset/Anomaly_Dataset/Anomaly_Videos/Anomaly-Videos-Part-2/Fighting\",\n",
        "    \"Normal\": \"/kaggle/input/crimeucfdataset/Anomaly_Dataset/Anomaly_Videos/Normal-Videos-Part-1\"\n",
        "}"
      ],
      "metadata": {
        "execution": {
          "iopub.status.busy": "2024-05-24T18:55:15.049352Z",
          "iopub.execute_input": "2024-05-24T18:55:15.049772Z",
          "iopub.status.idle": "2024-05-24T18:55:15.056044Z",
          "shell.execute_reply.started": "2024-05-24T18:55:15.04974Z",
          "shell.execute_reply": "2024-05-24T18:55:15.054967Z"
        },
        "trusted": true,
        "id": "CN0Du4T-wTtZ"
      },
      "execution_count": null,
      "outputs": []
    },
    {
      "cell_type": "code",
      "source": [
        "class CrimeDataset(Dataset):\n",
        "    def __init__(self, __train=True, __tain_test_split=0.8, __random_state=42):\n",
        "        torch.manual_seed(__random_state)\n",
        "\n",
        "        self._data = []\n",
        "        self._labels = []\n",
        "        self._inclusion_probability = __tain_test_split if __train else 1.0 - __tain_test_split\n",
        "        self._frame_interval = 30\n",
        "\n",
        "        print(f\"Loading {'train' if __train else 'test' } dataset...\")\n",
        "        for label, data_path in DATA_SOURCE.items():\n",
        "            print(f\"Loading Label {label}...\")\n",
        "            for file in tqdm(os.listdir(data_path)):\n",
        "                if file.endswith(\".mp4\") and torch.rand(1).item() <= self._inclusion_probability:\n",
        "                    path = os.path.join(data_path, file)\n",
        "                    data, labels = self._parse_file(path, label)\n",
        "                    self._data.extend(data)\n",
        "                    self._labels.extend(labels)\n",
        "        print(f\"Finished loading {'train' if __train else 'test' } dataset... Loaded  {len(self._data)} images.\")\n",
        "\n",
        "    def _parse_file(self, __path, __label):\n",
        "        if not os.path.exists(__path):\n",
        "            return [], []\n",
        "\n",
        "        data = []\n",
        "        labels = []\n",
        "\n",
        "        cap = cv2.VideoCapture(__path)\n",
        "\n",
        "        success, image = cap.read()\n",
        "        while success:\n",
        "            try:\n",
        "                if True:\n",
        "                    image = cv2.cvtColor(image, cv2.COLOR_BGR2YUV)\n",
        "                    Y, U, V = cv2.split(image)\n",
        "                    image = transformer(Y)\n",
        "                    data.append(image)\n",
        "                    labels.append(__label)\n",
        "            except Exception as e:\n",
        "                print(f\"Error loading file {__path}: {e}\")\n",
        "\n",
        "            count = 0\n",
        "            while success and count < self._frame_interval:\n",
        "                success, image = cap.read()\n",
        "                count += 1\n",
        "        return data, labels\n",
        "\n",
        "\n",
        "    def label_str2id(self, __label):\n",
        "        labels = DATA_SOURCE.keys()\n",
        "        return list(labels).index(__label)\n",
        "\n",
        "    def label_id2str(self, __label):\n",
        "        labels = DATA_SOURCE.keys()\n",
        "        return list(labels)[__label]\n",
        "\n",
        "    def __len__(self):\n",
        "        return len(self._labels)\n",
        "\n",
        "    def __getitem__(self, __idx):\n",
        "        data = self._data[__idx]\n",
        "        label = self._labels[__idx]\n",
        "        return data, torch.tensor([self.label_str2id(label)])"
      ],
      "metadata": {
        "execution": {
          "iopub.status.busy": "2024-05-24T18:55:21.101607Z",
          "iopub.execute_input": "2024-05-24T18:55:21.10197Z",
          "iopub.status.idle": "2024-05-24T18:55:21.117905Z",
          "shell.execute_reply.started": "2024-05-24T18:55:21.101942Z",
          "shell.execute_reply": "2024-05-24T18:55:21.116835Z"
        },
        "trusted": true,
        "id": "Ou5BJcaMwTtZ"
      },
      "execution_count": null,
      "outputs": []
    },
    {
      "cell_type": "code",
      "source": [
        "train_dataset = CrimeDataset(True)\n",
        "test_dataset = CrimeDataset(False)"
      ],
      "metadata": {
        "execution": {
          "iopub.status.busy": "2024-05-24T18:55:22.941657Z",
          "iopub.execute_input": "2024-05-24T18:55:22.942418Z",
          "iopub.status.idle": "2024-05-24T19:10:27.089623Z",
          "shell.execute_reply.started": "2024-05-24T18:55:22.942388Z",
          "shell.execute_reply": "2024-05-24T19:10:27.088661Z"
        },
        "trusted": true,
        "id": "kO52oiXnwTtZ"
      },
      "execution_count": null,
      "outputs": []
    },
    {
      "cell_type": "code",
      "source": [
        "plot_randomly_form_dataset(test_dataset)"
      ],
      "metadata": {
        "execution": {
          "iopub.status.busy": "2024-05-24T19:10:38.745289Z",
          "iopub.execute_input": "2024-05-24T19:10:38.7461Z",
          "iopub.status.idle": "2024-05-24T19:10:40.070283Z",
          "shell.execute_reply.started": "2024-05-24T19:10:38.746071Z",
          "shell.execute_reply": "2024-05-24T19:10:40.069357Z"
        },
        "trusted": true,
        "id": "eNqtYQ4TwTta"
      },
      "execution_count": null,
      "outputs": []
    },
    {
      "cell_type": "code",
      "source": [
        "train_loader = DataLoader(train_dataset, batch_size=128, shuffle=True)\n",
        "test_loader = DataLoader(test_dataset, batch_size=128, shuffle=True)"
      ],
      "metadata": {
        "execution": {
          "iopub.status.busy": "2024-05-24T19:10:50.793905Z",
          "iopub.execute_input": "2024-05-24T19:10:50.794851Z",
          "iopub.status.idle": "2024-05-24T19:10:50.800846Z",
          "shell.execute_reply.started": "2024-05-24T19:10:50.794813Z",
          "shell.execute_reply": "2024-05-24T19:10:50.799754Z"
        },
        "trusted": true,
        "id": "ciNYUcq5wTta"
      },
      "execution_count": null,
      "outputs": []
    },
    {
      "cell_type": "code",
      "source": [
        "num_classes = 8"
      ],
      "metadata": {
        "execution": {
          "iopub.status.busy": "2024-05-24T19:16:21.269905Z",
          "iopub.execute_input": "2024-05-24T19:16:21.270832Z",
          "iopub.status.idle": "2024-05-24T19:16:21.274856Z",
          "shell.execute_reply.started": "2024-05-24T19:16:21.270788Z",
          "shell.execute_reply": "2024-05-24T19:16:21.27395Z"
        },
        "trusted": true,
        "id": "C6U08doKwTta"
      },
      "execution_count": null,
      "outputs": []
    },
    {
      "cell_type": "code",
      "source": [
        "class CrimeModelCNN(nn.Module):\n",
        "    def __init__(self):\n",
        "        super(CrimeModelCNN, self).__init__()\n",
        "        self.conv1 = nn.Conv2d(1, 64, kernel_size=3, padding=\"same\")\n",
        "        self.leaky_relu = nn.LeakyReLU(0.1)\n",
        "        self.max_pool1 = nn.MaxPool2d(2, 2)\n",
        "        self.dropout1 = nn.Dropout(0.25)\n",
        "        self.conv2 = nn.Conv2d(64, 128, kernel_size=3, padding=\"same\")\n",
        "        self.max_pool2 = nn.MaxPool2d(2, 2)\n",
        "        self.dropout2 = nn.Dropout(0.25)\n",
        "        self.conv3 = nn.Conv2d(128, 256, kernel_size=3, padding=\"same\")\n",
        "        self.max_pool3 = nn.MaxPool2d(2, 2)\n",
        "        self.dropout3 = nn.Dropout(0.4)\n",
        "        self.flatten = nn.Flatten()\n",
        "        self.fc1 = nn.Linear(28 * 28 * 256, 256)\n",
        "        self.dropout4 = nn.Dropout(0.5)\n",
        "\n",
        "    def forward(self, x):\n",
        "        x = self.conv1(x)\n",
        "        x = self.leaky_relu(x)\n",
        "        x = self.max_pool1(x)\n",
        "        x = self.dropout1(x)\n",
        "        x = self.conv2(x)\n",
        "        x = self.leaky_relu(x)\n",
        "        x = self.max_pool2(x)\n",
        "        x = self.dropout2(x)\n",
        "        x = self.conv3(x)\n",
        "        x = self.leaky_relu(x)\n",
        "        x = self.max_pool3(x)\n",
        "        x = self.dropout3(x)\n",
        "        x = self.flatten(x)\n",
        "        x = self.fc1(x)\n",
        "        x = self.leaky_relu(x)\n",
        "        x = self.dropout4(x)\n",
        "        return x"
      ],
      "metadata": {
        "execution": {
          "iopub.status.busy": "2024-05-24T19:24:28.946814Z",
          "iopub.execute_input": "2024-05-24T19:24:28.947189Z",
          "iopub.status.idle": "2024-05-24T19:24:28.958477Z",
          "shell.execute_reply.started": "2024-05-24T19:24:28.947158Z",
          "shell.execute_reply": "2024-05-24T19:24:28.957523Z"
        },
        "trusted": true,
        "id": "TgRJQviFwTta"
      },
      "execution_count": null,
      "outputs": []
    },
    {
      "cell_type": "code",
      "source": [
        "class CrimeModelLSTM(nn.Module):\n",
        "    def __init__(self):\n",
        "        super(CrimeModelLSTM, self).__init__()\n",
        "        self.lstm1 = nn.LSTM(1, 8, batch_first=True, bidirectional=False)\n",
        "        self.lstm2 = nn.LSTM(8, 8, batch_first=True, bidirectional=False)\n",
        "        self.fc = nn.Linear(8, 4)\n",
        "        self.dropout = nn.Dropout(0.2)\n",
        "\n",
        "    def forward(self, x):\n",
        "        x, _ = self.lstm1(x)\n",
        "        x, _ = self.lstm2(x)\n",
        "        x = x[:, -1, :]\n",
        "        x = self.fc(x)\n",
        "        x = self.dropout(x)\n",
        "        return x"
      ],
      "metadata": {
        "execution": {
          "iopub.status.busy": "2024-05-24T19:24:30.991925Z",
          "iopub.execute_input": "2024-05-24T19:24:30.992617Z",
          "iopub.status.idle": "2024-05-24T19:24:30.999676Z",
          "shell.execute_reply.started": "2024-05-24T19:24:30.992585Z",
          "shell.execute_reply": "2024-05-24T19:24:30.998696Z"
        },
        "trusted": true,
        "id": "VPY2bMW7wTta"
      },
      "execution_count": null,
      "outputs": []
    },
    {
      "cell_type": "code",
      "source": [
        "class CrimeModel(nn.Module):\n",
        "    def __init__(self):\n",
        "        super(CrimeModel, self).__init__()\n",
        "        self.cnn = CrimeModelCNN()\n",
        "        self.lstm = CrimeModelLSTM()\n",
        "        self.fc = nn.Linear(260, 8)  # Adjust the input size according to your concatenation axis\n",
        "\n",
        "    def forward(self, x):\n",
        "        x_cnn = x\n",
        "        x_lstm = torch.reshape(x, (x.shape[0], RESOLUTION * RESOLUTION, 1))\n",
        "        x_cnn = self.cnn(x_cnn)\n",
        "        x_lstm = self.lstm(x_lstm)\n",
        "        x_combined = torch.cat((x_cnn, x_lstm), dim=1)\n",
        "        x = self.fc(x_combined)\n",
        "#         return F.softmax(x, dim=1)\n",
        "        return x"
      ],
      "metadata": {
        "execution": {
          "iopub.status.busy": "2024-05-24T19:24:31.300344Z",
          "iopub.execute_input": "2024-05-24T19:24:31.300685Z",
          "iopub.status.idle": "2024-05-24T19:24:31.307409Z",
          "shell.execute_reply.started": "2024-05-24T19:24:31.300658Z",
          "shell.execute_reply": "2024-05-24T19:24:31.30656Z"
        },
        "trusted": true,
        "id": "16bm_jxzwTta"
      },
      "execution_count": null,
      "outputs": []
    },
    {
      "cell_type": "code",
      "source": [
        "model = CrimeModel()"
      ],
      "metadata": {
        "execution": {
          "iopub.status.busy": "2024-05-24T19:24:33.063854Z",
          "iopub.execute_input": "2024-05-24T19:24:33.064509Z",
          "iopub.status.idle": "2024-05-24T19:24:33.585868Z",
          "shell.execute_reply.started": "2024-05-24T19:24:33.064476Z",
          "shell.execute_reply": "2024-05-24T19:24:33.584835Z"
        },
        "trusted": true,
        "id": "o5T-Q9-zwTta"
      },
      "execution_count": null,
      "outputs": []
    },
    {
      "cell_type": "code",
      "source": [
        "optimizer = optim.Adam(model.parameters(), lr=0.01)\n",
        "criterion = nn.CrossEntropyLoss()"
      ],
      "metadata": {
        "execution": {
          "iopub.status.busy": "2024-05-24T19:24:36.698362Z",
          "iopub.execute_input": "2024-05-24T19:24:36.698996Z",
          "iopub.status.idle": "2024-05-24T19:24:36.703935Z",
          "shell.execute_reply.started": "2024-05-24T19:24:36.698965Z",
          "shell.execute_reply": "2024-05-24T19:24:36.702963Z"
        },
        "trusted": true,
        "id": "0L-nalmQwTta"
      },
      "execution_count": null,
      "outputs": []
    },
    {
      "cell_type": "code",
      "source": [
        "model = nn.DataParallel(model)\n",
        "model.to(device)"
      ],
      "metadata": {
        "execution": {
          "iopub.status.busy": "2024-05-24T19:24:37.09685Z",
          "iopub.execute_input": "2024-05-24T19:24:37.097462Z",
          "iopub.status.idle": "2024-05-24T19:24:37.164181Z",
          "shell.execute_reply.started": "2024-05-24T19:24:37.097432Z",
          "shell.execute_reply": "2024-05-24T19:24:37.163331Z"
        },
        "trusted": true,
        "id": "3zP5lGvFwTta"
      },
      "execution_count": null,
      "outputs": []
    },
    {
      "cell_type": "code",
      "source": [
        "NUM_EPOCHS = 5"
      ],
      "metadata": {
        "execution": {
          "iopub.status.busy": "2024-05-24T19:24:39.561283Z",
          "iopub.execute_input": "2024-05-24T19:24:39.561887Z",
          "iopub.status.idle": "2024-05-24T19:24:39.566073Z",
          "shell.execute_reply.started": "2024-05-24T19:24:39.561857Z",
          "shell.execute_reply": "2024-05-24T19:24:39.565006Z"
        },
        "trusted": true,
        "id": "Fhbjs5OLwTta"
      },
      "execution_count": null,
      "outputs": []
    },
    {
      "cell_type": "code",
      "source": [
        "for g in optimizer.param_groups:\n",
        "    g['lr'] = 0.001"
      ],
      "metadata": {
        "execution": {
          "iopub.status.busy": "2024-05-24T19:24:40.018414Z",
          "iopub.execute_input": "2024-05-24T19:24:40.01911Z",
          "iopub.status.idle": "2024-05-24T19:24:40.023133Z",
          "shell.execute_reply.started": "2024-05-24T19:24:40.019082Z",
          "shell.execute_reply": "2024-05-24T19:24:40.022064Z"
        },
        "trusted": true,
        "id": "YomXT-7VwTtb"
      },
      "execution_count": null,
      "outputs": []
    },
    {
      "cell_type": "code",
      "source": [
        "# import torch\n",
        "# import torch.nn as nn\n",
        "# import matplotlib.pyplot as plt\n",
        "\n",
        "# train_loss_history = []\n",
        "# train_accuracy_history = []\n",
        "# test_loss_history = []\n",
        "# test_accuracy_history = []\n",
        "\n",
        "# for epoch in range(NUM_EPOCHS):\n",
        "#     model.train()\n",
        "#     total_correct_train = 0\n",
        "#     total_train_loss = 0\n",
        "\n",
        "#     print(f\"Epoch : {epoch + 1}...\")\n",
        "\n",
        "#     for batch_idx, (data, label) in enumerate(train_loader):\n",
        "#         data = data.to(device)\n",
        "#         label = label.to(device)\n",
        "\n",
        "#         # Ensure label is a 1D tensor of class indices\n",
        "#         label = label.squeeze()\n",
        "\n",
        "#         preds = model(data)\n",
        "#         loss = criterion(preds, label)\n",
        "#         optimizer.zero_grad()\n",
        "#         loss.backward()\n",
        "#         optimizer.step()\n",
        "\n",
        "#         total_train_loss += loss.item()\n",
        "#         total_correct_train += (preds.argmax(dim=1) == label).sum().item()\n",
        "\n",
        "#         if batch_idx % 10 == 0:\n",
        "#             print(f\"Loss: {loss.item()}, Batch: {batch_idx + 1}/{len(train_loader)}\", end=\"\\r\")\n",
        "\n",
        "#     # Calculate average loss and accuracy for this epoch\n",
        "#     avg_train_loss = total_train_loss / len(train_loader)\n",
        "#     train_accuracy = total_correct_train / len(train_loader.dataset)\n",
        "\n",
        "#     train_loss_history.append(avg_train_loss)\n",
        "#     train_accuracy_history.append(train_accuracy)\n",
        "\n",
        "#     print(f\"Train Loss: {avg_train_loss:.4f}, Train Accuracy: {train_accuracy:.4f}\")\n",
        "\n",
        "#     # Save the model after each epoch\n",
        "#     torch.save(model.state_dict(), f\"crime_model_epoch_{epoch + 1}.pth\")\n",
        "\n",
        "#     # Testing\n",
        "#     model.eval()\n",
        "#     total_correct_test = 0\n",
        "#     total_test_loss = 0\n",
        "\n",
        "#     with torch.no_grad():\n",
        "#         for data, label in test_loader:\n",
        "#             data = data.to(device)\n",
        "#             label = label.to(device)\n",
        "\n",
        "#             # Ensure label is a 1D tensor of class indices\n",
        "#             label = label.squeeze()\n",
        "\n",
        "#             preds = model(data)\n",
        "#             loss = criterion(preds, label)\n",
        "\n",
        "#             total_test_loss += loss.item()\n",
        "#             total_correct_test += (preds.argmax(dim=1) == label).sum().item()\n",
        "\n",
        "#     avg_test_loss = total_test_loss / len(test_loader)\n",
        "#     test_accuracy = total_correct_test / len(test_loader.dataset)\n",
        "\n",
        "#     test_loss_history.append(avg_test_loss)\n",
        "#     test_accuracy_history.append(test_accuracy)\n",
        "\n",
        "#     print(f\"Test Loss: {avg_test_loss:.4f}, Test Accuracy: {test_accuracy:.4f}\")\n",
        "\n",
        "# # Plotting the accuracies\n",
        "# plt.figure(figsize=(10, 5))\n",
        "# plt.title(\"Training and Test Accuracy\")\n",
        "# plt.plot(train_accuracy_history, label=\"Train Accuracy\")\n",
        "# plt.plot(test_accuracy_history, label=\"Test Accuracy\")\n",
        "# plt.xlabel(\"Epochs\")\n",
        "# plt.ylabel(\"Accuracy\")\n",
        "# plt.legend()\n",
        "# plt.show()\n",
        "\n",
        "# plt.figure(figsize=(10, 5))\n",
        "# plt.title(\"Training Loss\")\n",
        "# plt.plot(train_loss_history, label=\"Train Loss\")\n",
        "# plt.xlabel(\"Epochs\")\n",
        "# plt.ylabel(\"Loss\")\n",
        "# plt.legend()\n",
        "# plt.show()\n",
        "\n",
        "# plt.figure(figsize=(10, 5))\n",
        "# plt.title(\"Test Loss\")\n",
        "# plt.plot(test_loss_history, label=\"Test Loss\")\n",
        "# plt.xlabel(\"Epochs\")\n",
        "# plt.ylabel(\"Loss\")\n",
        "# plt.legend()\n",
        "# plt.show()"
      ],
      "metadata": {
        "execution": {
          "iopub.status.busy": "2024-05-24T19:24:41.242941Z",
          "iopub.execute_input": "2024-05-24T19:24:41.243805Z",
          "iopub.status.idle": "2024-05-24T19:30:24.214589Z",
          "shell.execute_reply.started": "2024-05-24T19:24:41.24376Z",
          "shell.execute_reply": "2024-05-24T19:30:24.213297Z"
        },
        "trusted": true,
        "id": "qw30LufFwTtb"
      },
      "execution_count": null,
      "outputs": []
    },
    {
      "cell_type": "code",
      "source": [
        "import torch\n",
        "import torch.nn as nn\n",
        "import matplotlib.pyplot as plt\n",
        "from sklearn.metrics import roc_curve, auc\n",
        "import numpy as np\n",
        "\n",
        "train_loss_history = []\n",
        "train_accuracy_history = []\n",
        "test_loss_history = []\n",
        "test_accuracy_history = []\n",
        "\n",
        "# For ROC and AUC\n",
        "all_labels = []\n",
        "all_preds = []\n",
        "\n",
        "for epoch in range(NUM_EPOCHS):\n",
        "    model.train()\n",
        "    total_correct_train = 0\n",
        "    total_train_loss = 0\n",
        "\n",
        "    print(f\"Epoch : {epoch + 1}...\")\n",
        "\n",
        "    for batch_idx, (data, label) in enumerate(train_loader):\n",
        "        data = data.to(device)\n",
        "        label = label.to(device)\n",
        "\n",
        "        # Ensure label is a 1D tensor of class indices\n",
        "        label = label.squeeze()\n",
        "\n",
        "        preds = model(data)\n",
        "        loss = criterion(preds, label)\n",
        "        optimizer.zero_grad()\n",
        "        loss.backward()\n",
        "        optimizer.step()\n",
        "\n",
        "        total_train_loss += loss.item()\n",
        "        total_correct_train += (preds.argmax(dim=1) == label).sum().item()\n",
        "\n",
        "        if batch_idx % 10 == 0:\n",
        "            print(f\"Loss: {loss.item()}, Batch: {batch_idx + 1}/{len(train_loader)}\", end=\"\\r\")\n",
        "\n",
        "    # Calculate average loss and accuracy for this epoch\n",
        "    avg_train_loss = total_train_loss / len(train_loader)\n",
        "    train_accuracy = total_correct_train / len(train_loader.dataset)\n",
        "\n",
        "    train_loss_history.append(avg_train_loss)\n",
        "    train_accuracy_history.append(train_accuracy)\n",
        "\n",
        "    print(f\"Train Loss: {avg_train_loss:.4f}, Train Accuracy: {train_accuracy:.4f}\")\n",
        "\n",
        "    # Save the model after each epoch\n",
        "    torch.save(model.state_dict(), f\"crime_model_epoch_{epoch + 1}.pth\")\n",
        "\n",
        "    # Testing\n",
        "    model.eval()\n",
        "    total_correct_test = 0\n",
        "    total_test_loss = 0\n",
        "\n",
        "    with torch.no_grad():\n",
        "        for data, label in test_loader:\n",
        "            data = data.to(device)\n",
        "            label = label.to(device)\n",
        "\n",
        "            # Ensure label is a 1D tensor of class indices\n",
        "            label = label.squeeze()\n",
        "\n",
        "            preds = model(data)\n",
        "            loss = criterion(preds, label)\n",
        "\n",
        "            total_test_loss += loss.item()\n",
        "            total_correct_test += (preds.argmax(dim=1) == label).sum().item()\n",
        "\n",
        "            # Collecting data for ROC/AUC\n",
        "            preds_prob = torch.softmax(preds, dim=1)[:, 1]  # Get probability of the positive class\n",
        "            all_labels.extend(label.cpu().numpy())\n",
        "            all_preds.extend(preds_prob.cpu().numpy())\n",
        "\n",
        "    avg_test_loss = total_test_loss / len(test_loader)\n",
        "    test_accuracy = total_correct_test / len(test_loader.dataset)\n",
        "\n",
        "    test_loss_history.append(avg_test_loss)\n",
        "    test_accuracy_history.append(test_accuracy)\n",
        "\n",
        "    print(f\"Test Loss: {avg_test_loss:.4f}, Test Accuracy: {test_accuracy:.4f}\")\n",
        "\n",
        "# Plotting the accuracies\n",
        "plt.figure(figsize=(10, 5))\n",
        "plt.title(\"Training and Test Accuracy\")\n",
        "plt.plot(train_accuracy_history, label=\"Train Accuracy\")\n",
        "plt.plot(test_accuracy_history, label=\"Test Accuracy\")\n",
        "plt.xlabel(\"Epochs\")\n",
        "plt.ylabel(\"Accuracy\")\n",
        "plt.legend()\n",
        "plt.show()\n",
        "\n",
        "# Plotting the training loss\n",
        "plt.figure(figsize=(10, 5))\n",
        "plt.title(\"Training Loss\")\n",
        "plt.plot(train_loss_history, label=\"Train Loss\")\n",
        "plt.xlabel(\"Epochs\")\n",
        "plt.ylabel(\"Loss\")\n",
        "plt.legend()\n",
        "plt.show()\n",
        "\n",
        "# Plotting the test loss\n",
        "plt.figure(figsize=(10, 5))\n",
        "plt.title(\"Test Loss\")\n",
        "plt.plot(test_loss_history, label=\"Test Loss\")\n",
        "plt.xlabel(\"Epochs\")\n",
        "plt.ylabel(\"Loss\")\n",
        "plt.legend()\n",
        "plt.show()\n",
        "\n",
        "# Convert lists to numpy arrays for ROC calculation\n",
        "all_labels = np.array(all_labels)\n",
        "all_preds = np.array(all_preds)\n",
        "\n",
        "# Calculate ROC curve\n",
        "fpr, tpr, thresholds = roc_curve(all_labels, all_preds)\n",
        "\n",
        "# Calculate AUC\n",
        "roc_auc = auc(fpr, tpr)\n",
        "\n",
        "# Plot ROC curve\n",
        "plt.figure(figsize=(10, 5))\n",
        "plt.plot(fpr, tpr, color='darkorange', lw=2, label=f'ROC curve (area = {roc_auc:.2f})')\n",
        "plt.plot([0, 1], [0, 1], color='navy', lw=2, linestyle='--')\n",
        "plt.xlim([0.0, 1.0])\n",
        "plt.ylim([0.0, 1.05])\n",
        "plt.xlabel('False Positive Rate')\n",
        "plt.ylabel('True Positive Rate')\n",
        "plt.title('Receiver Operating Characteristic (ROC) Curve')\n",
        "plt.legend(loc=\"lower right\")\n",
        "plt.show()\n"
      ],
      "metadata": {
        "id": "lLTFrjZc1CqE"
      },
      "execution_count": null,
      "outputs": []
    },
    {
      "cell_type": "code",
      "source": [
        "plot_randomly_form_dataset_model(test_dataset, model)"
      ],
      "metadata": {
        "execution": {
          "iopub.status.busy": "2024-05-18T17:51:45.40303Z",
          "iopub.execute_input": "2024-05-18T17:51:45.40342Z",
          "iopub.status.idle": "2024-05-18T17:51:47.410148Z",
          "shell.execute_reply.started": "2024-05-18T17:51:45.403393Z",
          "shell.execute_reply": "2024-05-18T17:51:47.409167Z"
        },
        "trusted": true,
        "id": "xgWjymQ9wTtb"
      },
      "execution_count": null,
      "outputs": []
    },
    {
      "cell_type": "code",
      "source": [],
      "metadata": {
        "id": "YVxSZkTbwTtb"
      },
      "execution_count": null,
      "outputs": []
    }
  ]
}